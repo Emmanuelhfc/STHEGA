{
 "cells": [
  {
   "cell_type": "code",
   "execution_count": 1,
   "metadata": {},
   "outputs": [],
   "source": [
    "from  CascoTubo import CascoTubo\n",
    "import pandas as pd\n",
    "import math\n",
    "\n",
    "def erro_calculo(resultados, comparacao):\n",
    "    erros = []\n",
    "    for ind, valor in enumerate(resultados):\n",
    "    \n",
    "        erro = (math.sqrt((valor - comparacao[ind]) ** 2) / comparacao[ind]) * 100\n",
    "\n",
    "        erros.append(erro)\n",
    "    \n",
    "    return erros\n",
    "\n",
    "def table_df_comp(artigo, resultados, erros, indice):\n",
    "    data = {\n",
    "        \"Valorers Artigo\": artigo,\n",
    "        \"Resultado\": resultados,\n",
    "        \"erro [%]\": erros,\n",
    "        \"parametros\": indice\n",
    "    }\n",
    "\n",
    "    df = pd.DataFrame(data)\n",
    "\n",
    "    return df"
   ]
  },
  {
   "cell_type": "markdown",
   "metadata": {},
   "source": [
    "# Teste com Trabalho de Trans Cal"
   ]
  },
  {
   "cell_type": "markdown",
   "metadata": {},
   "source": [
    "## Dados iniciais"
   ]
  },
  {
   "cell_type": "code",
   "execution_count": 2,
   "metadata": {},
   "outputs": [
    {
     "name": "stdout",
     "output_type": "stream",
     "text": [
      "([0.0508, 3.7944859994032822], [0.030750509999999995, 0.08200136])\n",
      "[(0.019049999999999997, 0.0254, 'quadrado', 0.0254, 0.0254)]\n",
      "Sm 0.014060170000000006\n",
      "(0.00254,)\n",
      "331.65\n",
      "299.15\n",
      "deltat_Pb1 248.59297291061114\n",
      "Sw 0.005366166452810734\n",
      "3.0 148.57749003912642 0.8667479021315692\n",
      "1\n",
      "1.2065\n",
      "1.7779999999999998\n",
      "0.0254\n",
      "Rb 0.13102898304736807\n",
      "Rs 0.017669172932330827\n"
     ]
    }
   ],
   "source": [
    "\n",
    "pol2m = 0.0254\n",
    "trocador =CascoTubo(2048, 4180, 60, 57, 23, 29, 1.36, 0.33, 1, 863.9, 997, 0.0739, 0.000891, 0.1404, 0.607, \"oil\", \"water\", 0.00002, 0.000017)\n",
    "\n",
    "n = 2\n",
    "Ds = 8.071 * 0.0254\n",
    "de_pol = 0.75\n",
    "a_tubos = \"quadrado\"\n",
    "L = 1\n",
    "passo_pol = 1\n",
    "\n",
    "trocador.filtro_tubos(n, Ds, de_pol, a_tubos, passo_pol)\n",
    "trocador.area_projeto(L)\n",
    "\n",
    "trocador.coef_global_min()\n",
    "\n",
    "espe = 0.065 * pol2m\n",
    "trocador.diametro_interno_tubo(espe)\n",
    "trocador.conveccao_tubo(False)\n",
    "\n",
    "trocador.diametro_casco(2 * pol2m)\n",
    "\n",
    "print(trocador.caract_chicana(1))\n",
    "\n",
    "# ls, lc, classe = []\n",
    "ls = 0.2 \n",
    "lc = trocador.Ds*0.25\n",
    "classe = 150\n",
    "trocador.conveccao_casco(ls, lc, classe)\n",
    "\n",
    "trocador.calculo_temp_parede()\n",
    "# trocador.correcao_temp_parede()\n",
    "\n",
    "trocador.coef_global_limpo()\n",
    "trocador.excesso_area()\n",
    "\n",
    "trocador.perda_carga_tubo()\n",
    "trocador.perda_carga_casco()\n",
    "\n",
    "\n"
   ]
  }
 ],
 "metadata": {
  "kernelspec": {
   "display_name": "Python 3",
   "language": "python",
   "name": "python3"
  },
  "language_info": {
   "codemirror_mode": {
    "name": "ipython",
    "version": 3
   },
   "file_extension": ".py",
   "mimetype": "text/x-python",
   "name": "python",
   "nbconvert_exporter": "python",
   "pygments_lexer": "ipython3",
   "version": "3.11.6"
  }
 },
 "nbformat": 4,
 "nbformat_minor": 2
}
