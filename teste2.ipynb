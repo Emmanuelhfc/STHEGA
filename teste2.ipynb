{
 "cells": [
  {
   "cell_type": "code",
   "execution_count": 134,
   "metadata": {},
   "outputs": [],
   "source": [
    "from  CascoTubo import CascoTubo\n",
    "import pandas as pd\n",
    "import math\n",
    "\n",
    "def erro_calculo(resultados, comparacao):\n",
    "    erros = []\n",
    "    for ind, valor in enumerate(resultados):\n",
    "    \n",
    "        erro = (math.sqrt((valor - comparacao[ind]) ** 2) / comparacao[ind]) * 100\n",
    "\n",
    "        erros.append(erro)\n",
    "    \n",
    "    return erros\n",
    "\n",
    "def table_df_comp(artigo, resultados, erros, indice):\n",
    "    data = {\n",
    "        \"Valorers Artigo\": artigo,\n",
    "        \"Resultado\": resultados,\n",
    "        \"erro [%]\": erros,\n",
    "        \"parametros\": indice\n",
    "    }\n",
    "\n",
    "    df = pd.DataFrame(data)\n",
    "\n",
    "    return df"
   ]
  },
  {
   "cell_type": "markdown",
   "metadata": {},
   "source": [
    "# Teste com Thermal Design Optimization of Shell-and-Tube Heat Exchanger Liquid to\n",
    "Liquid to Minimize Cost using Combination Bell-Delaware Method and\n",
    "Genetic Algorithm\n",
    "Design comparison of the first case study to original data"
   ]
  },
  {
   "cell_type": "markdown",
   "metadata": {},
   "source": [
    "## Dados iniciais"
   ]
  },
  {
   "cell_type": "code",
   "execution_count": 135,
   "metadata": {},
   "outputs": [],
   "source": [
    "teste1 =CascoTubo()\n",
    "\n",
    "\n",
    "\n",
    "# index = [\"T1\", \"T2\", \"wq\", \"cp_quente\", \"mi_q\", \"rho_q\", \"v_q\", \"Rd_q\", \"t1\", \"t2\", \"wf\", \"cp_frio\", \"mi_f\", \"rho_f\", \"v_f\", \"Rd_f\"]\n",
    "# valores = []\n",
    "# data = {\n",
    "#     \"valores\": valores\n",
    "# }\n",
    "teste1.T1 = 199\n",
    "teste1.T2 = 93.3\n",
    "teste1.t1 = 37.8\n",
    "teste1.t2 = 76.7\n",
    "teste1.wq = 5.52 \n",
    "teste1.wf = 18.80\n",
    "teste1.cp_frio = 2050\n",
    "teste1.cp_quente = 2470\n",
    "teste1.num_casco = 1\n",
    "\n",
    "\n",
    "# df = pd.DataFrame(data, index= index)\n",
    "# display(df)\n"
   ]
  },
  {
   "cell_type": "markdown",
   "metadata": {},
   "source": [
    "## Balanço de energia"
   ]
  },
  {
   "cell_type": "code",
   "execution_count": 136,
   "metadata": {},
   "outputs": [
    {
     "data": {
      "text/html": [
       "<div>\n",
       "<style scoped>\n",
       "    .dataframe tbody tr th:only-of-type {\n",
       "        vertical-align: middle;\n",
       "    }\n",
       "\n",
       "    .dataframe tbody tr th {\n",
       "        vertical-align: top;\n",
       "    }\n",
       "\n",
       "    .dataframe thead th {\n",
       "        text-align: right;\n",
       "    }\n",
       "</style>\n",
       "<table border=\"1\" class=\"dataframe\">\n",
       "  <thead>\n",
       "    <tr style=\"text-align: right;\">\n",
       "      <th></th>\n",
       "      <th>Valorers Artigo</th>\n",
       "      <th>Resultado</th>\n",
       "      <th>erro [%]</th>\n",
       "      <th>parametros</th>\n",
       "    </tr>\n",
       "  </thead>\n",
       "  <tbody>\n",
       "    <tr>\n",
       "      <th>0</th>\n",
       "      <td>1441156</td>\n",
       "      <td>1499206.0</td>\n",
       "      <td>4.028016</td>\n",
       "      <td>q</td>\n",
       "    </tr>\n",
       "  </tbody>\n",
       "</table>\n",
       "</div>"
      ],
      "text/plain": [
       "   Valorers Artigo  Resultado  erro [%] parametros\n",
       "0          1441156  1499206.0  4.028016          q"
      ]
     },
     "metadata": {},
     "output_type": "display_data"
    },
    {
     "name": "stdout",
     "output_type": "stream",
     "text": [
      "1499206.0000000002\n"
     ]
    }
   ],
   "source": [
    "\n",
    "artigo = [1441156]\n",
    "\n",
    "resultados = [teste1.balaco_de_energia()]\n",
    "\n",
    "erros = erro_calculo(resultados, artigo)\n",
    "\n",
    "# Table\n",
    "index = [\"q\"]\n",
    "\n",
    "df = table_df_comp(artigo, resultados, erros, index)\n",
    "\n",
    "display(df)\n",
    "\n",
    "q = resultados[0]\n",
    "print(q)"
   ]
  },
  {
   "cell_type": "markdown",
   "metadata": {},
   "source": [
    "## Cálculo de delta_t"
   ]
  },
  {
   "cell_type": "code",
   "execution_count": 137,
   "metadata": {},
   "outputs": [
    {
     "name": "stdout",
     "output_type": "stream",
     "text": [
      "[84.54689966634177, 0.8914538969556942, 75.36966318308245]\n"
     ]
    }
   ],
   "source": [
    "\n",
    "resultados = teste1.diferenca_temp_deltaT()\n",
    "\n",
    "# artigo = [32.48, 0.997, 32.38]\n",
    "\n",
    "# erros = erro_calculo(resultados, artigo)\n",
    "\n",
    "# # Passes no casco\n",
    "# artigo.append(1)\n",
    "# resultados.append(1)\n",
    "# erros.append(0)\n",
    "\n",
    "# index = [\"MLDT\", \"F\", \"Delta_t\", \"Passes no Casco\"]\n",
    "\n",
    "# df = table_df_comp(artigo, resultados, erros, index)\n",
    "\n",
    "# display(df)\n",
    "\n",
    "print(resultados)\n",
    "\n",
    "delta_t = resultados[2]\n",
    "\n"
   ]
  },
  {
   "cell_type": "markdown",
   "metadata": {},
   "source": [
    "## Definição nº de tubos"
   ]
  },
  {
   "cell_type": "code",
   "execution_count": 138,
   "metadata": {},
   "outputs": [
    {
     "name": "stdout",
     "output_type": "stream",
     "text": [
      "Dotl=  0.48895\n",
      "Nt=  157\n",
      "[157, 0.48895]\n"
     ]
    }
   ],
   "source": [
    "artigo = [158, 0.173253]\n",
    "\n",
    "n = 4\n",
    "Ds = 0.5334\n",
    "de = 0.0254\n",
    "a_tubos = \"quadrado\"\n",
    "passo = \"1 1/4\"\n",
    "\n",
    "resultados = teste1.filtro_tubos(n, Ds, de, a_tubos, passo)\n",
    "# erros = []\n",
    "# erros = erro_calculo(resultados, artigo)\n",
    "\n",
    "# ini = [\"####\", n, Ds, de, a_tubos, passo]\n",
    "# resultados.extend(ini)\n",
    "# artigo.extend(ini)\n",
    "# erros.extend([\"####\", 0, 0, 0,0, 0])\n",
    "\n",
    "# index = [\"Nt\", \"Dotl\", \"Dados de Entrada\", \"Passes no tubo\", \"Ds\", \"de\", \"Arranjo\", \"Passo\"]\n",
    "\n",
    "# df = table_df_comp(artigo, resultados, erros, index)\n",
    "\n",
    "# display(df)\n",
    "\n",
    "Nt = resultados[0]\n",
    "Dotl = resultados[1]\n",
    "\n",
    "print(resultados)"
   ]
  },
  {
   "cell_type": "markdown",
   "metadata": {},
   "source": [
    "## Área de projeto"
   ]
  },
  {
   "cell_type": "code",
   "execution_count": 139,
   "metadata": {},
   "outputs": [
    {
     "name": "stdout",
     "output_type": "stream",
     "text": [
      "A_proj=  74.39152042650517\n",
      "Ud_min=  267.38762403674195\n"
     ]
    },
    {
     "data": {
      "text/html": [
       "<div>\n",
       "<style scoped>\n",
       "    .dataframe tbody tr th:only-of-type {\n",
       "        vertical-align: middle;\n",
       "    }\n",
       "\n",
       "    .dataframe tbody tr th {\n",
       "        vertical-align: top;\n",
       "    }\n",
       "\n",
       "    .dataframe thead th {\n",
       "        text-align: right;\n",
       "    }\n",
       "</style>\n",
       "<table border=\"1\" class=\"dataframe\">\n",
       "  <thead>\n",
       "    <tr style=\"text-align: right;\">\n",
       "      <th></th>\n",
       "      <th>Valorers Artigo</th>\n",
       "      <th>Resultado</th>\n",
       "      <th>erro [%]</th>\n",
       "      <th>parametros</th>\n",
       "    </tr>\n",
       "  </thead>\n",
       "  <tbody>\n",
       "    <tr>\n",
       "      <th>0</th>\n",
       "      <td>74.21</td>\n",
       "      <td>74.39152</td>\n",
       "      <td>0.244604</td>\n",
       "      <td>A_proj</td>\n",
       "    </tr>\n",
       "    <tr>\n",
       "      <th>1</th>\n",
       "      <td>165.82</td>\n",
       "      <td>267.387624</td>\n",
       "      <td>61.251733</td>\n",
       "      <td>Ud_min</td>\n",
       "    </tr>\n",
       "    <tr>\n",
       "      <th>2</th>\n",
       "      <td>####</td>\n",
       "      <td>####</td>\n",
       "      <td>####</td>\n",
       "      <td>Dados entrada</td>\n",
       "    </tr>\n",
       "    <tr>\n",
       "      <th>3</th>\n",
       "      <td>1</td>\n",
       "      <td>1</td>\n",
       "      <td>1</td>\n",
       "      <td>L</td>\n",
       "    </tr>\n",
       "  </tbody>\n",
       "</table>\n",
       "</div>"
      ],
      "text/plain": [
       "  Valorers Artigo   Resultado   erro [%]     parametros\n",
       "0           74.21    74.39152   0.244604         A_proj\n",
       "1          165.82  267.387624  61.251733         Ud_min\n",
       "2            ####        ####       ####  Dados entrada\n",
       "3               1           1          1              L"
      ]
     },
     "metadata": {},
     "output_type": "display_data"
    }
   ],
   "source": [
    "\n",
    "\n",
    "L = 5.938\n",
    "\n",
    "resultados = []\n",
    "artigo = []\n",
    "\n",
    "A_proj = teste1.area_projeto(Nt, de, L)\n",
    "\n",
    "Ud_min = teste1.coef_global_min(A_proj, delta_t, q)\n",
    "\n",
    "resultados = [A_proj, Ud_min]\n",
    "artigo = [74.21, 165.820000000]\n",
    "\n",
    "erros = erro_calculo(resultados, artigo)\n",
    "\n",
    "resultados.extend([\"####\", 1])\n",
    "artigo.extend([\"####\", 1])\n",
    "erros.extend([\"####\", 1])\n",
    "\n",
    "\n",
    "index = [\"A_proj\", \"Ud_min\", \"Dados entrada\", \"L\"]\n",
    "\n",
    "df = table_df_comp(artigo, resultados, erros, index)\n",
    "\n",
    "display(df)\n"
   ]
  },
  {
   "cell_type": "markdown",
   "metadata": {},
   "source": [
    "## Convecção Tubo"
   ]
  },
  {
   "cell_type": "code",
   "execution_count": 140,
   "metadata": {},
   "outputs": [
    {
     "name": "stdout",
     "output_type": "stream",
     "text": [
      "0.022098\n"
     ]
    },
    {
     "data": {
      "text/html": [
       "<div>\n",
       "<style scoped>\n",
       "    .dataframe tbody tr th:only-of-type {\n",
       "        vertical-align: middle;\n",
       "    }\n",
       "\n",
       "    .dataframe tbody tr th {\n",
       "        vertical-align: top;\n",
       "    }\n",
       "\n",
       "    .dataframe thead th {\n",
       "        text-align: right;\n",
       "    }\n",
       "</style>\n",
       "<table border=\"1\" class=\"dataframe\">\n",
       "  <thead>\n",
       "    <tr style=\"text-align: right;\">\n",
       "      <th></th>\n",
       "      <th>Valorers Artigo</th>\n",
       "      <th>Resultado</th>\n",
       "      <th>erro [%]</th>\n",
       "      <th>parametros</th>\n",
       "    </tr>\n",
       "  </thead>\n",
       "  <tbody>\n",
       "    <tr>\n",
       "      <th>0</th>\n",
       "      <td>0.00253</td>\n",
       "      <td>0.015053</td>\n",
       "      <td>494.997252</td>\n",
       "      <td>at</td>\n",
       "    </tr>\n",
       "    <tr>\n",
       "      <th>1</th>\n",
       "      <td>130.32000</td>\n",
       "      <td>1248.884767</td>\n",
       "      <td>858.321644</td>\n",
       "      <td>Gt</td>\n",
       "    </tr>\n",
       "    <tr>\n",
       "      <th>2</th>\n",
       "      <td>2303.44000</td>\n",
       "      <td>30974.024215</td>\n",
       "      <td>1244.685523</td>\n",
       "      <td>Re</td>\n",
       "    </tr>\n",
       "    <tr>\n",
       "      <th>3</th>\n",
       "      <td>0.13100</td>\n",
       "      <td>1.252643</td>\n",
       "      <td>856.215798</td>\n",
       "      <td>v</td>\n",
       "    </tr>\n",
       "    <tr>\n",
       "      <th>4</th>\n",
       "      <td>1.00000</td>\n",
       "      <td>4704.039439</td>\n",
       "      <td>470303.943859</td>\n",
       "      <td>hi</td>\n",
       "    </tr>\n",
       "    <tr>\n",
       "      <th>5</th>\n",
       "      <td>554.44000</td>\n",
       "      <td>4092.514312</td>\n",
       "      <td>638.134751</td>\n",
       "      <td>hio</td>\n",
       "    </tr>\n",
       "    <tr>\n",
       "      <th>6</th>\n",
       "      <td>1.00000</td>\n",
       "      <td>0.022098</td>\n",
       "      <td>97.790200</td>\n",
       "      <td>di</td>\n",
       "    </tr>\n",
       "  </tbody>\n",
       "</table>\n",
       "</div>"
      ],
      "text/plain": [
       "   Valorers Artigo     Resultado       erro [%] parametros\n",
       "0          0.00253      0.015053     494.997252         at\n",
       "1        130.32000   1248.884767     858.321644         Gt\n",
       "2       2303.44000  30974.024215    1244.685523         Re\n",
       "3          0.13100      1.252643     856.215798          v\n",
       "4          1.00000   4704.039439  470303.943859         hi\n",
       "5        554.44000   4092.514312     638.134751        hio\n",
       "6          1.00000      0.022098      97.790200         di"
      ]
     },
     "metadata": {},
     "output_type": "display_data"
    }
   ],
   "source": [
    "mif = 358 * 10^-5\n",
    "rho_f = 995\n",
    "\n",
    "k = 13 * 10^2   #   Pois na equação da água não é necessário\n",
    "\n",
    "resultados = teste1.conveccao_tubo(n, Nt, L, teste1.wf, mif, rho_f, \"oil\", teste1.t2, teste1.t1, de, teste1.cp_frio, 0)\n",
    "\n",
    "\n",
    "at = 2.53 * 10**-3\n",
    "artigo = [at, 130.320000000, 2303.440000000,0.131000000,1, 554.440000000, 1]\n",
    "index = [\"at\", \"Gt\", \"Re\", \"v\", \"hi\", \"hio\", \"di\"]\n",
    "\n",
    "erros = erro_calculo(resultados, artigo)\n",
    "\n",
    "df = table_df_comp(artigo, resultados, erros, index)\n",
    "\n",
    "display(df)\n",
    "\n",
    "hio = resultados[5]\n",
    "\n",
    "G_t = resultados[1]\n",
    "Re_t = resultados[2]\n",
    "v_t = resultados[3]\n",
    "d = resultados[6]"
   ]
  },
  {
   "cell_type": "markdown",
   "metadata": {},
   "source": [
    "## Convecção Casco"
   ]
  },
  {
   "cell_type": "code",
   "execution_count": 141,
   "metadata": {},
   "outputs": [
    {
     "name": "stdout",
     "output_type": "stream",
     "text": [
      "0.0238125\n"
     ]
    }
   ],
   "source": [
    "p = 15/16 * 0.0254\n",
    "print(p)"
   ]
  },
  {
   "cell_type": "code",
   "execution_count": 142,
   "metadata": {},
   "outputs": [
    {
     "name": "stdout",
     "output_type": "stream",
     "text": [
      "lc 0.13335\n",
      "quadrado\n",
      "0.0254\n",
      "miq= 0.0739\n",
      "[(0.019049999999999997, 0.0254, 'quadrado', 0.0254, 0.0254)]\n",
      "(0.00381,)\n"
     ]
    },
    {
     "ename": "TypeError",
     "evalue": "object of type 'NoneType' has no len()",
     "output_type": "error",
     "traceback": [
      "\u001b[1;31m---------------------------------------------------------------------------\u001b[0m",
      "\u001b[1;31mTypeError\u001b[0m                                 Traceback (most recent call last)",
      "\u001b[1;32mc:\\Users\\carvalhoe\\Documents\\GITHUB\\HeatExGA\\teste2.ipynb Cell 17\u001b[0m line \u001b[0;36m1\n\u001b[0;32m     <a href='vscode-notebook-cell:/c%3A/Users/carvalhoe/Documents/GITHUB/HeatExGA/teste2.ipynb#X22sZmlsZQ%3D%3D?line=9'>10</a>\u001b[0m a_tubos \u001b[39m=\u001b[39m \u001b[39m\"\u001b[39m\u001b[39mquadrado\u001b[39m\u001b[39m\"\u001b[39m\n\u001b[0;32m     <a href='vscode-notebook-cell:/c%3A/Users/carvalhoe/Documents/GITHUB/HeatExGA/teste2.ipynb#X22sZmlsZQ%3D%3D?line=11'>12</a>\u001b[0m \u001b[39mprint\u001b[39m(\u001b[39m\"\u001b[39m\u001b[39mmiq=\u001b[39m\u001b[39m\"\u001b[39m, miq)\n\u001b[1;32m---> <a href='vscode-notebook-cell:/c%3A/Users/carvalhoe/Documents/GITHUB/HeatExGA/teste2.ipynb#X22sZmlsZQ%3D%3D?line=13'>14</a>\u001b[0m resultados, Nss, lsi_, lso_ \u001b[39m=\u001b[39m teste1\u001b[39m.\u001b[39;49mconveccao_casco(k, teste1\u001b[39m.\u001b[39;49mcp_quente, miq, teste1\u001b[39m.\u001b[39;49mwq, de, Nt, Dotl, Ds, a_tubos, L, ls, lc, p, \u001b[39m150\u001b[39;49m)\n\u001b[0;32m     <a href='vscode-notebook-cell:/c%3A/Users/carvalhoe/Documents/GITHUB/HeatExGA/teste2.ipynb#X22sZmlsZQ%3D%3D?line=15'>16</a>\u001b[0m artigo \u001b[39m=\u001b[39m [\u001b[39m1\u001b[39m, \u001b[39m1\u001b[39m,\u001b[39m24.93\u001b[39m, \u001b[39m0.014\u001b[39m, \u001b[39m222.39\u001b[39m, \u001b[39m0.118\u001b[39m, \u001b[39m1.06\u001b[39m, \u001b[39m1\u001b[39m, \u001b[39m0.8789\u001b[39m, \u001b[39m0.527\u001b[39m \u001b[39m*\u001b[39m \u001b[39m10\u001b[39m\u001b[39m*\u001b[39m\u001b[39m*\u001b[39m\u001b[39m-\u001b[39m\u001b[39m3\u001b[39m, \u001b[39m1\u001b[39m\u001b[39m/\u001b[39m\u001b[39m32\u001b[39m \u001b[39m*\u001b[39m \u001b[39m0.0254\u001b[39m, \u001b[39m0.545\u001b[39m \u001b[39m*\u001b[39m \u001b[39m10\u001b[39m\u001b[39m*\u001b[39m\u001b[39m*\u001b[39m\u001b[39m-\u001b[39m\u001b[39m3\u001b[39m, \u001b[39m0.00254\u001b[39m, \u001b[39m0.5435\u001b[39m, \u001b[39m4.036\u001b[39m, \u001b[39m1\u001b[39m, \u001b[39m1.164\u001b[39m, \u001b[39m0.2413\u001b[39m, \u001b[39m0.3683\u001b[39m, \u001b[39m0.9183\u001b[39m, \u001b[39m3\u001b[39m, \u001b[39m120.41\u001b[39m, \u001b[39m7.5\u001b[39m \u001b[39m*\u001b[39m \u001b[39m0.0254\u001b[39m, \u001b[39m12.5\u001b[39m \u001b[39m*\u001b[39m \u001b[39m0.0254\u001b[39m, \u001b[39m2\u001b[39m]\n\u001b[0;32m     <a href='vscode-notebook-cell:/c%3A/Users/carvalhoe/Documents/GITHUB/HeatExGA/teste2.ipynb#X22sZmlsZQ%3D%3D?line=16'>17</a>\u001b[0m index \u001b[39m=\u001b[39m [\u001b[39m\"\u001b[39m\u001b[39mpn\u001b[39m\u001b[39m\"\u001b[39m, \u001b[39m\"\u001b[39m\u001b[39mpp\u001b[39m\u001b[39m\"\u001b[39m, \u001b[39m\"\u001b[39m\u001b[39mRes\u001b[39m\u001b[39m\"\u001b[39m, \u001b[39m\"\u001b[39m\u001b[39mSm\u001b[39m\u001b[39m\"\u001b[39m, \u001b[39m\"\u001b[39m\u001b[39mh_ideal\u001b[39m\u001b[39m\"\u001b[39m, \u001b[39m\"\u001b[39m\u001b[39mji\u001b[39m\u001b[39m\"\u001b[39m, \u001b[39m\"\u001b[39m\u001b[39mjc\u001b[39m\u001b[39m\"\u001b[39m, \u001b[39m\"\u001b[39m\u001b[39mFc\u001b[39m\u001b[39m\"\u001b[39m, \u001b[39m\"\u001b[39m\u001b[39mjl\u001b[39m\u001b[39m\"\u001b[39m, \u001b[39m\"\u001b[39m\u001b[39mStb\u001b[39m\u001b[39m\"\u001b[39m, \u001b[39m\"\u001b[39m\u001b[39mdelta_tb\u001b[39m\u001b[39m\"\u001b[39m, \u001b[39m\"\u001b[39m\u001b[39mSsb\u001b[39m\u001b[39m\"\u001b[39m, \u001b[39m\"\u001b[39m\u001b[39mdelta_sb\u001b[39m\u001b[39m\"\u001b[39m, \u001b[39m\"\u001b[39m\u001b[39mjb\u001b[39m\u001b[39m\"\u001b[39m, \u001b[39m\"\u001b[39m\u001b[39mNc\u001b[39m\u001b[39m\"\u001b[39m, \u001b[39m\"\u001b[39m\u001b[39mFbp\u001b[39m\u001b[39m\"\u001b[39m, \u001b[39m\"\u001b[39m\u001b[39mjr\u001b[39m\u001b[39m\"\u001b[39m, \u001b[39m\"\u001b[39m\u001b[39mlsi\u001b[39m\u001b[39m\"\u001b[39m, \u001b[39m\"\u001b[39m\u001b[39mlso\u001b[39m\u001b[39m\"\u001b[39m, \u001b[39m\"\u001b[39m\u001b[39mjs\u001b[39m\u001b[39m\"\u001b[39m, \u001b[39m\"\u001b[39m\u001b[39mNb\u001b[39m\u001b[39m\"\u001b[39m, \u001b[39m\"\u001b[39m\u001b[39mhs\u001b[39m\u001b[39m\"\u001b[39m, \u001b[39m\"\u001b[39m\u001b[39mli\u001b[39m\u001b[39m\"\u001b[39m, \u001b[39m\"\u001b[39m\u001b[39mlo\u001b[39m\u001b[39m\"\u001b[39m, \u001b[39m\"\u001b[39m\u001b[39md_bocal\u001b[39m\u001b[39m\"\u001b[39m]\n",
      "File \u001b[1;32mc:\\Users\\carvalhoe\\Documents\\GITHUB\\HeatExGA\\CascoTubo.py:544\u001b[0m, in \u001b[0;36mCascoTubo.conveccao_casco\u001b[1;34m(self, k, cp, mi, w, de, Nt, Dotl, Ds, a_tubos, L_t, ls, lc, p, classe)\u001b[0m\n\u001b[0;32m    538\u001b[0m \u001b[39m#================= Fator de correção devido ao espaçamento desigual das chicanas na entrada e na saída (Js) =====================\u001b[39;00m\n\u001b[0;32m    539\u001b[0m \n\u001b[0;32m    540\u001b[0m \u001b[39m# TODO\u001b[39;00m\n\u001b[0;32m    541\u001b[0m Dc \u001b[39m=\u001b[39m Ds \u001b[39m+\u001b[39m \u001b[39m2\u001b[39m \u001b[39m*\u001b[39m POL2M\n\u001b[1;32m--> 544\u001b[0m d_bocal \u001b[39m=\u001b[39m diametro_bocal(Dc)\n\u001b[0;32m    545\u001b[0m li, lo \u001b[39m=\u001b[39m li_lo_tabela(Dc, classe)\n\u001b[0;32m    547\u001b[0m lsi \u001b[39m=\u001b[39m li \u001b[39m+\u001b[39m d_bocal\n",
      "File \u001b[1;32mc:\\Users\\carvalhoe\\Documents\\GITHUB\\HeatExGA\\CascoTubo.py:433\u001b[0m, in \u001b[0;36mCascoTubo.conveccao_casco.<locals>.diametro_bocal\u001b[1;34m(Dc)\u001b[0m\n\u001b[0;32m    430\u001b[0m sql_linha \u001b[39m=\u001b[39m \u001b[39mf\u001b[39m\u001b[39m\"\u001b[39m\u001b[39mSELECT d_bocal FROM Diametro_bocal WHERE D_casco_min <= \u001b[39m\u001b[39m{\u001b[39;00mDc\u001b[39m}\u001b[39;00m\u001b[39m AND D_casco_max >= \u001b[39m\u001b[39m{\u001b[39;00mDc\u001b[39m}\u001b[39;00m\u001b[39m \u001b[39m\u001b[39m\"\u001b[39m\n\u001b[0;32m    431\u001b[0m linha \u001b[39m=\u001b[39m filtro_sqlite(cursor, sql_linha, \u001b[39mTrue\u001b[39;00m)\n\u001b[1;32m--> 433\u001b[0m \u001b[39mif\u001b[39;00m \u001b[39mlen\u001b[39m(linha) \u001b[39m>\u001b[39m \u001b[39m1\u001b[39m :\n\u001b[0;32m    434\u001b[0m     \u001b[39mprint\u001b[39m(\u001b[39m\"\u001b[39m\u001b[39mErro: mais de uma correspondência na tabela de constantes a\u001b[39m\u001b[39m\"\u001b[39m)\n\u001b[0;32m    435\u001b[0m     \u001b[39mreturn\u001b[39;00m\n",
      "\u001b[1;31mTypeError\u001b[0m: object of type 'NoneType' has no len()"
     ]
    }
   ],
   "source": [
    "k = 0.1404\n",
    "miq = 0.0739\n",
    "ls = 0.2\n",
    "lc = 0.25 * Ds\n",
    "print(\"lc\", lc)\n",
    "p = 0.0254 # Mudei pois tabela contagem de tubos errada\n",
    "classe = 150 # classe de pressão\n",
    "print(a_tubos)\n",
    "print(de)\n",
    "a_tubos = \"quadrado\"\n",
    "\n",
    "print(\"miq=\", miq)\n",
    "\n",
    "resultados, Nss, lsi_, lso_ = teste1.conveccao_casco(k, teste1.cp_quente, miq, teste1.wq, de, Nt, Dotl, Ds, a_tubos, L, ls, lc, p, 150)\n",
    "\n",
    "artigo = [1, 1,24.93, 0.014, 222.39, 0.118, 1.06, 1, 0.8789, 0.527 * 10**-3, 1/32 * 0.0254, 0.545 * 10**-3, 0.00254, 0.5435, 4.036, 1, 1.164, 0.2413, 0.3683, 0.9183, 3, 120.41, 7.5 * 0.0254, 12.5 * 0.0254, 2]\n",
    "index = [\"pn\", \"pp\", \"Res\", \"Sm\", \"h_ideal\", \"ji\", \"jc\", \"Fc\", \"jl\", \"Stb\", \"delta_tb\", \"Ssb\", \"delta_sb\", \"jb\", \"Nc\", \"Fbp\", \"jr\", \"lsi\", \"lso\", \"js\", \"Nb\", \"hs\", \"li\", \"lo\", \"d_bocal\"]\n",
    "\n",
    "\n",
    "erros = erro_calculo(resultados, artigo)\n",
    "\n",
    "df = table_df_comp(artigo, resultados, erros, index)\n",
    "\n",
    "display(df)\n",
    "\n",
    "hs = resultados [21]\n",
    "\n",
    "Nb = resultados [20]\n",
    "Res = resultados[2]\n",
    "Nc = resultados[14]\n",
    "Stb = resultados[9]\n",
    "Ssb = resultados[11]\n",
    "Sm = resultados[3]\n",
    "Fbp = resultados[15]\n",
    "pn = resultados[0]\n",
    "pp = resultados[1]\n",
    "Fc = resultados[7]\n",
    "\n",
    "\n"
   ]
  },
  {
   "cell_type": "markdown",
   "metadata": {},
   "source": [
    "## Cálculo da temperatura da parede\n",
    "\n",
    "O código ainda não utiliza tw, precisa da função para calcular propriedades termodinâmicas"
   ]
  },
  {
   "cell_type": "code",
   "execution_count": null,
   "metadata": {},
   "outputs": [],
   "source": [
    "\n",
    "# teste1.T2 =  teste1.T2 + 273\n",
    "# teste1.T1 = teste1.T1 +273\n",
    "# teste1.t1 = teste1.t1 + 273\n",
    "# teste1.t2 = teste1.t2 + 273\n",
    "# Tc = (teste1.T2 + teste1.T1) /2\n",
    "# tc = (teste1.t1 + teste1.t2) / 2\n",
    "\n",
    "\n",
    "# teste1.calculo_temp_parede(Tc, tc, hs, hio, mif, miq, True, \"water\")"
   ]
  },
  {
   "cell_type": "markdown",
   "metadata": {},
   "source": [
    "## Cálculo do coeficiente global limpo"
   ]
  },
  {
   "cell_type": "code",
   "execution_count": null,
   "metadata": {},
   "outputs": [
    {
     "name": "stdout",
     "output_type": "stream",
     "text": [
      "42286.89704979035 474.0079512714874\n"
     ]
    },
    {
     "data": {
      "text/html": [
       "<div>\n",
       "<style scoped>\n",
       "    .dataframe tbody tr th:only-of-type {\n",
       "        vertical-align: middle;\n",
       "    }\n",
       "\n",
       "    .dataframe tbody tr th {\n",
       "        vertical-align: top;\n",
       "    }\n",
       "\n",
       "    .dataframe thead th {\n",
       "        text-align: right;\n",
       "    }\n",
       "</style>\n",
       "<table border=\"1\" class=\"dataframe\">\n",
       "  <thead>\n",
       "    <tr style=\"text-align: right;\">\n",
       "      <th></th>\n",
       "      <th>Valorers Artigo</th>\n",
       "      <th>Resultado</th>\n",
       "      <th>erro [%]</th>\n",
       "      <th>parametros</th>\n",
       "    </tr>\n",
       "  </thead>\n",
       "  <tbody>\n",
       "    <tr>\n",
       "      <th>0</th>\n",
       "      <td>98.93</td>\n",
       "      <td>468.753536</td>\n",
       "      <td>373.823447</td>\n",
       "      <td>Coef globla limpo</td>\n",
       "    </tr>\n",
       "  </tbody>\n",
       "</table>\n",
       "</div>"
      ],
      "text/plain": [
       "   Valorers Artigo   Resultado    erro [%]         parametros\n",
       "0            98.93  468.753536  373.823447  Coef globla limpo"
      ]
     },
     "metadata": {},
     "output_type": "display_data"
    }
   ],
   "source": [
    "\n",
    "print(hio, hs)\n",
    "Uc = teste1.coef_global_limpo(hio, hs)\n",
    "resultados = [Uc]\n",
    "artigo = [98.93]\n",
    "index = [\"Coef globla limpo\"]\n",
    "\n",
    "erros = erro_calculo(resultados, artigo)\n",
    "\n",
    "df = table_df_comp(artigo, resultados, erros, index)\n",
    "\n",
    "display(df)"
   ]
  },
  {
   "cell_type": "markdown",
   "metadata": {},
   "source": [
    "## Cálculo fator de incrustação e excesso de área de troca"
   ]
  },
  {
   "cell_type": "code",
   "execution_count": null,
   "metadata": {},
   "outputs": [
    {
     "name": "stdout",
     "output_type": "stream",
     "text": [
      "468.75353633656 111565.84454208691 3.7000000000000005e-05 1.5560308413230248 25.00404738929587 4340700.0\n"
     ]
    },
    {
     "data": {
      "text/html": [
       "<div>\n",
       "<style scoped>\n",
       "    .dataframe tbody tr th:only-of-type {\n",
       "        vertical-align: middle;\n",
       "    }\n",
       "\n",
       "    .dataframe tbody tr th {\n",
       "        vertical-align: top;\n",
       "    }\n",
       "\n",
       "    .dataframe thead th {\n",
       "        text-align: right;\n",
       "    }\n",
       "</style>\n",
       "<table border=\"1\" class=\"dataframe\">\n",
       "  <thead>\n",
       "    <tr style=\"text-align: right;\">\n",
       "      <th></th>\n",
       "      <th>Valorers Artigo</th>\n",
       "      <th>Resultado</th>\n",
       "      <th>erro [%]</th>\n",
       "      <th>parametros</th>\n",
       "    </tr>\n",
       "  </thead>\n",
       "  <tbody>\n",
       "    <tr>\n",
       "      <th>0</th>\n",
       "      <td>-0.00400</td>\n",
       "      <td>-0.002124</td>\n",
       "      <td>-46.891152</td>\n",
       "      <td>Rd</td>\n",
       "    </tr>\n",
       "    <tr>\n",
       "      <th>1</th>\n",
       "      <td>98.56425</td>\n",
       "      <td>460.762133</td>\n",
       "      <td>367.473890</td>\n",
       "      <td>Ud_necessario</td>\n",
       "    </tr>\n",
       "    <tr>\n",
       "      <th>2</th>\n",
       "      <td>2.61770</td>\n",
       "      <td>376.766845</td>\n",
       "      <td>14293.049040</td>\n",
       "      <td>A_necessaria</td>\n",
       "    </tr>\n",
       "    <tr>\n",
       "      <th>3</th>\n",
       "      <td>-40.56000</td>\n",
       "      <td>-99.587004</td>\n",
       "      <td>-145.530090</td>\n",
       "      <td>EA</td>\n",
       "    </tr>\n",
       "  </tbody>\n",
       "</table>\n",
       "</div>"
      ],
      "text/plain": [
       "   Valorers Artigo   Resultado      erro [%]     parametros\n",
       "0         -0.00400   -0.002124    -46.891152             Rd\n",
       "1         98.56425  460.762133    367.473890  Ud_necessario\n",
       "2          2.61770  376.766845  14293.049040   A_necessaria\n",
       "3        -40.56000  -99.587004   -145.530090             EA"
      ]
     },
     "metadata": {},
     "output_type": "display_data"
    }
   ],
   "source": [
    "artigo = [-0.004, 98.56424989, 2.6177, -40.56]\n",
    "index = [\"Rd\", \"Ud_necessario\", \"A_necessaria\", \"EA\"]\n",
    "\n",
    "Rd_verd = 1.7*10**-5 + 2*10**-5\n",
    "\n",
    "print(Uc, Ud_min, Rd_verd, A_proj, delta_t, q)\n",
    "\n",
    "resultados = teste1.excesso_area(Uc, Ud_min, Rd_verd, A_proj, delta_t, q)\n",
    "\n",
    "erros = erro_calculo(resultados, artigo)\n",
    "\n",
    "df = table_df_comp(artigo, resultados, erros, index)\n",
    "\n",
    "display(df)"
   ]
  },
  {
   "cell_type": "markdown",
   "metadata": {},
   "source": [
    "## Perda de carga Tubo"
   ]
  },
  {
   "cell_type": "code",
   "execution_count": null,
   "metadata": {},
   "outputs": [
    {
     "data": {
      "text/html": [
       "<div>\n",
       "<style scoped>\n",
       "    .dataframe tbody tr th:only-of-type {\n",
       "        vertical-align: middle;\n",
       "    }\n",
       "\n",
       "    .dataframe tbody tr th {\n",
       "        vertical-align: top;\n",
       "    }\n",
       "\n",
       "    .dataframe thead th {\n",
       "        text-align: right;\n",
       "    }\n",
       "</style>\n",
       "<table border=\"1\" class=\"dataframe\">\n",
       "  <thead>\n",
       "    <tr style=\"text-align: right;\">\n",
       "      <th></th>\n",
       "      <th>Valorers Artigo</th>\n",
       "      <th>Resultado</th>\n",
       "      <th>erro [%]</th>\n",
       "      <th>parametros</th>\n",
       "    </tr>\n",
       "  </thead>\n",
       "  <tbody>\n",
       "    <tr>\n",
       "      <th>0</th>\n",
       "      <td>122.13</td>\n",
       "      <td>3.594152e+06</td>\n",
       "      <td>2.942791e+06</td>\n",
       "      <td>delta_pt</td>\n",
       "    </tr>\n",
       "  </tbody>\n",
       "</table>\n",
       "</div>"
      ],
      "text/plain": [
       "   Valorers Artigo     Resultado      erro [%] parametros\n",
       "0           122.13  3.594152e+06  2.942791e+06   delta_pt"
      ]
     },
     "metadata": {},
     "output_type": "display_data"
    }
   ],
   "source": [
    "index = [\"delta_pt\"]\n",
    "\n",
    "delta_pt = teste1.perda_carga_tubo(Re_t, rho_f, d, 1,  G_t, L, n, v_t)\n",
    "\n",
    "artigo = [122.13]\n",
    "\n",
    "resultados = [delta_pt]\n",
    "\n",
    "erros = erro_calculo(resultados, artigo)\n",
    "\n",
    "df = table_df_comp(artigo, resultados, erros, index)\n",
    "\n",
    "display(df)"
   ]
  },
  {
   "cell_type": "markdown",
   "metadata": {},
   "source": [
    "## Perda de carga no casco"
   ]
  },
  {
   "cell_type": "code",
   "execution_count": null,
   "metadata": {},
   "outputs": [
    {
     "name": "stdout",
     "output_type": "stream",
     "text": [
      "quadrado\n",
      "509.6891440471038\n"
     ]
    },
    {
     "ename": "NameError",
     "evalue": "name 'rho_q' is not defined",
     "output_type": "error",
     "traceback": [
      "\u001b[1;31m---------------------------------------------------------------------------\u001b[0m",
      "\u001b[1;31mNameError\u001b[0m                                 Traceback (most recent call last)",
      "\u001b[1;32mc:\\Users\\carvalhoe\\Documents\\GITHUB\\HeatExGA\\teste2.ipynb Cell 27\u001b[0m line \u001b[0;36m6\n\u001b[0;32m      <a href='vscode-notebook-cell:/c%3A/Users/carvalhoe/Documents/GITHUB/HeatExGA/teste2.ipynb#X35sZmlsZQ%3D%3D?line=2'>3</a>\u001b[0m \u001b[39mprint\u001b[39m(a_tubos)\n\u001b[0;32m      <a href='vscode-notebook-cell:/c%3A/Users/carvalhoe/Documents/GITHUB/HeatExGA/teste2.ipynb#X35sZmlsZQ%3D%3D?line=4'>5</a>\u001b[0m \u001b[39mprint\u001b[39m(Res)\n\u001b[1;32m----> <a href='vscode-notebook-cell:/c%3A/Users/carvalhoe/Documents/GITHUB/HeatExGA/teste2.ipynb#X35sZmlsZQ%3D%3D?line=5'>6</a>\u001b[0m resultados \u001b[39m=\u001b[39m teste1\u001b[39m.\u001b[39mperda_carga_casco(Nb, miq, miw, de, Res, teste1\u001b[39m.\u001b[39mwq, rho_q, Nc, Stb, Ssb, Sm, Nss, Fbp, p, pp, lc, Ds, Fc, Nt, ls, lsi_, lso_, a_tubos)\n\u001b[0;32m      <a href='vscode-notebook-cell:/c%3A/Users/carvalhoe/Documents/GITHUB/HeatExGA/teste2.ipynb#X35sZmlsZQ%3D%3D?line=7'>8</a>\u001b[0m artigo \u001b[39m=\u001b[39m [\u001b[39m56.97\u001b[39m, \u001b[39m386.34\u001b[39m, \u001b[39m8.02\u001b[39m, \u001b[39m367.67\u001b[39m]\n\u001b[0;32m     <a href='vscode-notebook-cell:/c%3A/Users/carvalhoe/Documents/GITHUB/HeatExGA/teste2.ipynb#X35sZmlsZQ%3D%3D?line=10'>11</a>\u001b[0m erros \u001b[39m=\u001b[39m erro_calculo(resultados, artigo)\n",
      "\u001b[1;31mNameError\u001b[0m: name 'rho_q' is not defined"
     ]
    }
   ],
   "source": [
    "index = [\"delta_pc\", \"delta_pw\", \"delta_pe\", \"delta_ps\"]\n",
    "miw = 1\n",
    "print(a_tubos)\n",
    "\n",
    "print(Res)\n",
    "resultados = teste1.perda_carga_casco(Nb, miq, miw, de, Res, teste1.wq, rho_q, Nc, Stb, Ssb, Sm, Nss, Fbp, p, pp, lc, Ds, Fc, Nt, ls, lsi_, lso_, a_tubos)\n",
    "\n",
    "artigo = [56.97, 386.34, 8.02, 367.67]\n",
    "\n",
    "\n",
    "erros = erro_calculo(resultados, artigo)\n",
    "\n",
    "df = table_df_comp(artigo, resultados, erros, index)\n",
    "\n",
    "display(df)"
   ]
  },
  {
   "cell_type": "code",
   "execution_count": null,
   "metadata": {},
   "outputs": [
    {
     "name": "stdout",
     "output_type": "stream",
     "text": [
      "13.832192711703966\n"
     ]
    }
   ],
   "source": [
    "Isi = 0.190500\n",
    "Iso = 0.317500\n",
    "dp_bi = 248.59334006709963\n",
    "R_b = 0.131028604253926\n",
    "Rs = 0.7660241564827022\n",
    "Nc = 4\n",
    "pol = 0.0254\n",
    "n1 = 0.2 \n",
    "\n",
    "print(1/2*(((Isi)**(n1-2))+((Iso)**(n1-2))))"
   ]
  },
  {
   "cell_type": "code",
   "execution_count": null,
   "metadata": {},
   "outputs": [],
   "source": []
  }
 ],
 "metadata": {
  "kernelspec": {
   "display_name": "Python 3",
   "language": "python",
   "name": "python3"
  },
  "language_info": {
   "codemirror_mode": {
    "name": "ipython",
    "version": 3
   },
   "file_extension": ".py",
   "mimetype": "text/x-python",
   "name": "python",
   "nbconvert_exporter": "python",
   "pygments_lexer": "ipython3",
   "version": "3.11.6"
  }
 },
 "nbformat": 4,
 "nbformat_minor": 2
}
